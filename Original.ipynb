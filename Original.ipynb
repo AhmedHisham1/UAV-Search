{
 "cells": [
  {
   "cell_type": "code",
   "execution_count": 1,
   "metadata": {},
   "outputs": [
    {
     "name": "stderr",
     "output_type": "stream",
     "text": [
      "WARNING: Logging before flag parsing goes to stderr.\n",
      "W0318 07:51:34.212156  7752 deprecation.py:323] From C:\\ProgramData\\Anaconda3\\envs\\tf_detection\\lib\\site-packages\\tensorflow_core\\python\\compat\\v2_compat.py:88: disable_resource_variables (from tensorflow.python.ops.variable_scope) is deprecated and will be removed in a future version.\n",
      "Instructions for updating:\n",
      "non-resource variables are not supported in the long term\n"
     ]
    }
   ],
   "source": [
    "import numpy as np\n",
    "import os\n",
    "import sys\n",
    "import tensorflow as tf\n",
    "\n",
    "sys.path.append(\"..\")\n",
    "from utils import label_map_util\n",
    "from utils import visualization_utils as vis_util\n",
    "\n",
    "########## For TF2.1 ############\n",
    "import tensorflow.compat.v1 as tf\n",
    "tf.disable_v2_behavior()\n",
    "#################################\n",
    "\n",
    "import cv2\n",
    "from time import time"
   ]
  },
  {
   "cell_type": "code",
   "execution_count": 14,
   "metadata": {},
   "outputs": [],
   "source": [
    "# cap = cv2.VideoCapture(0)\n",
    "cap = cv2.VideoCapture(r\"D:\\Courses\\pyimagesearch\\real-time object detection\\real-time-object-detection\\external data\\car_chase_02.mp4\")"
   ]
  },
  {
   "cell_type": "markdown",
   "metadata": {},
   "source": [
    "Choose a Model"
   ]
  },
  {
   "cell_type": "code",
   "execution_count": 15,
   "metadata": {},
   "outputs": [],
   "source": [
    "# MODEL_NAME = 'ssd_mobilenet_v1_0.75_depth_300x300_coco14_sync_2018_07_03'\n",
    "# MODEL_NAME = 'ssd_mobilenet_v1_coco_2017_11_17'\n",
    "# MODEL_NAME = 'ssd_mobilenet_v1_coco_11_06_2017'\n",
    "# MODEL_NAME = 'ssd_mobilenet_v2_oid_v4_2018_12_12'\n",
    "# MODEL_NAME = 'ssdlite_mobilenet_v2_coco_2018_05_09'\n",
    "MODEL_NAME = 'trt_ssdlite'"
   ]
  },
  {
   "cell_type": "code",
   "execution_count": 16,
   "metadata": {},
   "outputs": [],
   "source": [
    "# Path to frozen detection graph. This is the actual model that is used for the object detection.\n",
    "PATH_TO_FROZEN_GRAPH = MODEL_NAME + '/frozen_inference_graph.pb'\n",
    "\n",
    "# List of the strings that is used to add correct label for each box.\n",
    "PATH_TO_LABELS = os.path.join('data', 'mscoco_label_map.pbtxt')\n",
    "\n",
    "\n",
    "detection_graph = tf.Graph()\n",
    "with detection_graph.as_default():\n",
    "  od_graph_def = tf.GraphDef()\n",
    "  with tf.gfile.GFile(PATH_TO_FROZEN_GRAPH, 'rb') as fid:\n",
    "    serialized_graph = fid.read()\n",
    "    od_graph_def.ParseFromString(serialized_graph)\n",
    "    tf.import_graph_def(od_graph_def, name='')"
   ]
  },
  {
   "cell_type": "code",
   "execution_count": 17,
   "metadata": {},
   "outputs": [],
   "source": [
    "# ## Loading label map\n",
    "# Label maps map indices to category names, so that when our convolution network predicts `5`, \n",
    "# we know that this corresponds to `airplane`.  Here we use internal utility functions, \n",
    "# but anything that returns a dictionary mapping integers to appropriate string labels would be fine\n",
    "category_index = label_map_util.create_category_index_from_labelmap(PATH_TO_LABELS, use_display_name=True)"
   ]
  },
  {
   "cell_type": "code",
   "execution_count": 18,
   "metadata": {},
   "outputs": [],
   "source": [
    "def load_image_into_numpy_array(image):\n",
    "  (im_width, im_height) = image.size\n",
    "  return np.array(image.getdata()).reshape(\n",
    "      (im_height, im_width, 3)).astype(np.uint8)"
   ]
  },
  {
   "cell_type": "code",
   "execution_count": 19,
   "metadata": {},
   "outputs": [
    {
     "name": "stdout",
     "output_type": "stream",
     "text": [
      "fps: 39.24246093954543\n"
     ]
    }
   ],
   "source": [
    "times = []\n",
    "\n",
    "start_time = time()\n",
    "frame_counter = 0\n",
    "\n",
    "# Detection\n",
    "with tf.device('/gpu:0'):\n",
    "  with detection_graph.as_default():\n",
    "      with tf.Session(graph=detection_graph) as sess:\n",
    "          ret = True\n",
    "          while ret:\n",
    "              # Read frame from camera\n",
    "              ret, image_np = cap.read()\n",
    "              # Expand dimensions since the model expects images to have shape: [1, None, None, 3]\n",
    "              image_np_expanded = np.expand_dims(image_np, axis=0)\n",
    "              # Extract image tensor\n",
    "              image_tensor = detection_graph.get_tensor_by_name('image_tensor:0')\n",
    "              # Extract detection boxes\n",
    "              boxes = detection_graph.get_tensor_by_name('detection_boxes:0')\n",
    "              # Extract detection scores\n",
    "              scores = detection_graph.get_tensor_by_name('detection_scores:0')\n",
    "              # Extract detection classes\n",
    "              classes = detection_graph.get_tensor_by_name('detection_classes:0')\n",
    "              # Extract number of detectionsd\n",
    "              num_detections = detection_graph.get_tensor_by_name(\n",
    "                  'num_detections:0')\n",
    "            \n",
    "              # Actual detection.\n",
    "                \n",
    "              t1 = time()\n",
    "            \n",
    "              (boxes, scores, classes, num_detections) = sess.run(\n",
    "                  [boxes, scores, classes, num_detections],\n",
    "                  feed_dict={image_tensor: image_np_expanded})\n",
    "                \n",
    "              t2 = time()\n",
    "              times.append(t2-t1)\n",
    "              times = times[-20:]\n",
    "            \n",
    "              # Visualization of the results of a detection.\n",
    "              vis_util.visualize_boxes_and_labels_on_image_array(\n",
    "                  image_np,\n",
    "                  np.squeeze(boxes),\n",
    "                  np.squeeze(classes).astype(np.int32),\n",
    "                  np.squeeze(scores),\n",
    "                  category_index,\n",
    "                  use_normalized_coordinates=True,\n",
    "                  line_thickness=8)\n",
    "\n",
    "              # Display output\n",
    "              image_np = cv2.putText(image_np, \"Time: {:.2f}ms\".format(sum(times)/len(times)*1000), (0, 30),\n",
    "                                cv2.FONT_HERSHEY_COMPLEX_SMALL, 1, (0, 0, 255), 2)\n",
    "              cv2.imshow('object detection', cv2.resize(image_np, (800, 600)))\n",
    "\n",
    "              frame_counter = frame_counter + 1\n",
    "\n",
    "              if cv2.waitKey(1) & 0xFF == ord('q'):\n",
    "                  break\n",
    "\n",
    "\n",
    "cap.release()\n",
    "cv2.destroyAllWindows()\n",
    "seconds = time() - start_time\n",
    "if seconds > 0:\n",
    "    print('fps:', frame_counter/seconds)\n",
    "else:\n",
    "    print(f'seconds = {seconds}')\n"
   ]
  },
  {
   "cell_type": "code",
   "execution_count": null,
   "metadata": {},
   "outputs": [],
   "source": []
  },
  {
   "cell_type": "code",
   "execution_count": null,
   "metadata": {},
   "outputs": [],
   "source": []
  },
  {
   "cell_type": "code",
   "execution_count": null,
   "metadata": {},
   "outputs": [],
   "source": []
  }
 ],
 "metadata": {
  "kernelspec": {
   "display_name": "Python 3",
   "language": "python",
   "name": "python3"
  },
  "language_info": {
   "codemirror_mode": {
    "name": "ipython",
    "version": 3
   },
   "file_extension": ".py",
   "mimetype": "text/x-python",
   "name": "python",
   "nbconvert_exporter": "python",
   "pygments_lexer": "ipython3",
   "version": "3.6.9"
  }
 },
 "nbformat": 4,
 "nbformat_minor": 2
}
