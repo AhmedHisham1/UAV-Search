version https://git-lfs.github.com/spec/v1
oid sha256:0d9d9ad5fc19808edd0fc1b0d31de55d31e6cda0255b3b4a561d7b98acd46909
size 7901
