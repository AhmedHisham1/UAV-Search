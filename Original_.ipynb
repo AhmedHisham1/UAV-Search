{
 "cells": [
  {
   "cell_type": "code",
   "execution_count": 2,
   "metadata": {},
   "outputs": [],
   "source": [
    "import numpy as np\n",
    "import os\n",
    "import sys\n",
    "import tensorflow as tf\n",
    "\n",
    "sys.path.append(\"..\")\n",
    "from utils import label_map_util\n",
    "# from utils import visualization_utils as vis_util\n",
    "\n",
    "########## For TF2.1 ############\n",
    "import tensorflow.compat.v1 as tf\n",
    "tf.disable_v2_behavior()\n",
    "#################################\n",
    "\n",
    "import cv2\n",
    "from time import time"
   ]
  },
  {
   "cell_type": "code",
   "execution_count": 3,
   "metadata": {},
   "outputs": [],
   "source": [
    "cap = cv2.VideoCapture(0)\n",
    "# cap = cv2.VideoCapture(r\"D:\\Courses\\pyimagesearch\\real-time object detection\\real-time-object-detection\\external data\\aerialfootage.mp4\")"
   ]
  },
  {
   "cell_type": "markdown",
   "metadata": {},
   "source": [
    "Choose a Model"
   ]
  },
  {
   "cell_type": "code",
   "execution_count": 4,
   "metadata": {},
   "outputs": [],
   "source": [
    "# MODEL_NAME = 'ssd_mobilenet_v1_0.75_depth_300x300_coco14_sync_2018_07_03'\n",
    "# MODEL_NAME = 'ssd_mobilenet_v1_coco_2017_11_17'\n",
    "# MODEL_NAME = 'ssd_mobilenet_v1_coco_11_06_2017'\n",
    "# MODEL_NAME = 'ssd_mobilenet_v2_oid_v4_2018_12_12'\n",
    "# MODEL_NAME = 'ssdlite_mobilenet_v2_coco_2018_05_09'\n",
    "MODEL_NAME = 'trt_ssdlite'\n",
    "# MODEL_NAME = 'trt_trial'"
   ]
  },
  {
   "cell_type": "code",
   "execution_count": 5,
   "metadata": {},
   "outputs": [],
   "source": [
    "# Path to frozen detection graph. This is the actual model that is used for the object detection.\n",
    "PATH_TO_FROZEN_GRAPH = MODEL_NAME + '/frozen_inference_graph.pb'\n",
    "\n",
    "# List of the strings that is used to add correct label for each box.\n",
    "PATH_TO_LABELS = os.path.join('data', 'mscoco_label_map.pbtxt')\n",
    "\n",
    "\n",
    "detection_graph = tf.Graph()\n",
    "with detection_graph.as_default():\n",
    "    od_graph_def = tf.GraphDef()\n",
    "    with tf.gfile.GFile(PATH_TO_FROZEN_GRAPH, 'rb') as fid:\n",
    "        serialized_graph = fid.read()\n",
    "        od_graph_def.ParseFromString(serialized_graph)\n",
    "        tf.import_graph_def(od_graph_def, name='')"
   ]
  },
  {
   "cell_type": "code",
   "execution_count": 6,
   "metadata": {},
   "outputs": [],
   "source": [
    "# ## Loading label map\n",
    "# Label maps map indices to category names, so that when our convolution network predicts `5`, \n",
    "# we know that this corresponds to `airplane`.  Here we use internal utility functions, \n",
    "# but anything that returns a dictionary mapping integers to appropriate string labels would be fine\n",
    "category_index = label_map_util.create_category_index_from_labelmap(PATH_TO_LABELS, use_display_name=True)"
   ]
  },
  {
   "cell_type": "code",
   "execution_count": 7,
   "metadata": {},
   "outputs": [],
   "source": [
    "def load_image_into_numpy_array(image):\n",
    "  (im_width, im_height) = image.size\n",
    "  return np.array(image.getdata()).reshape(\n",
    "      (im_height, im_width, 3)).astype(np.uint8)"
   ]
  },
  {
   "cell_type": "code",
   "execution_count": 8,
   "metadata": {},
   "outputs": [],
   "source": [
    "np.random.seed(2)\n",
    "COLORS = np.random.randint(0, 255, size=(90, 3), dtype=\"uint8\")\n",
    "\n",
    "def draw_outputs(img, outputs, class_names):\n",
    "    boxes, objectness, classes, nums = outputs\n",
    "    h, w = img.shape[0:2]\n",
    "    for i in range(nums):\n",
    "        if objectness[i] > 0.3:\n",
    "            top, left, bottom, right = boxes[i][0], boxes[i][1], boxes[i][2], boxes[i][3]\n",
    "\n",
    "            x1y1 = (int(w*left), int(h*top))\n",
    "            x2y2 = (int(w*right), int(h*bottom))\n",
    "            color = [int(c) for c in COLORS[classes[i]]]\n",
    "            img = cv2.rectangle(img, x1y1, x2y2, color, 4)\n",
    "            img = cv2.putText(img, '{} {:.4f}'.format(\n",
    "                class_names[classes[i]]['name'], objectness[i]),\n",
    "                x1y1, cv2.FONT_HERSHEY_COMPLEX_SMALL, 0.5, (255, 255, 255), 1)\n",
    "    return img"
   ]
  },
  {
   "cell_type": "code",
   "execution_count": 9,
   "metadata": {
    "scrolled": false
   },
   "outputs": [
    {
     "name": "stdout",
     "output_type": "stream",
     "text": [
      "Average FPS: 63.14fps\n",
      "Average AFPS: 29.20fps\n"
     ]
    }
   ],
   "source": [
    "times = []\n",
    "\n",
    "viz_times = []\n",
    "afps_times = []\n",
    "\n",
    "# Detection\n",
    "with tf.device('/gpu:0'):\n",
    "    with detection_graph.as_default():\n",
    "        with tf.Session(graph=detection_graph) as sess:\n",
    "            while True:\n",
    "                t1_afps = time()\n",
    "                # Read frame from camera\n",
    "                ret, image_np = cap.read()\n",
    "                \n",
    "                if not ret:\n",
    "                    print('cap.read() did not return image\\n')\n",
    "                    break\n",
    "                # Expand dimensions since the model expects images to have shape: [1, None, None, 3]\n",
    "                image_np_expanded = np.expand_dims(image_np, axis=0)\n",
    "                # Extract image tensor\n",
    "                image_tensor = detection_graph.get_tensor_by_name('image_tensor:0')\n",
    "                # Extract detection boxes\n",
    "                boxes = detection_graph.get_tensor_by_name('detection_boxes:0')\n",
    "                # Extract detection scores\n",
    "                scores = detection_graph.get_tensor_by_name('detection_scores:0')\n",
    "                # Extract detection classes\n",
    "                classes = detection_graph.get_tensor_by_name('detection_classes:0')\n",
    "                # Extract number of detectionsd\n",
    "                num_detections = detection_graph.get_tensor_by_name(\n",
    "                  'num_detections:0')\n",
    "                \n",
    "                # Actual detection.\n",
    "                t1 = time()\n",
    "                \n",
    "                (boxes, scores, classes, num_detections) = sess.run(\n",
    "                  [boxes, scores, classes, num_detections],\n",
    "                  feed_dict={image_tensor: image_np_expanded})\n",
    "                \n",
    "                times.append(time() - t1)\n",
    "                \n",
    "                t1_viz = time()\n",
    "                # Visualization of the results of a detection.\n",
    "                \n",
    "#                 vis_util.visualize_boxes_and_labels_on_image_array(\n",
    "#                   image_np,\n",
    "#                   np.squeeze(boxes),\n",
    "#                   np.squeeze(classes).astype(np.int32),\n",
    "#                   np.squeeze(scores),\n",
    "#                   category_index,\n",
    "#                   use_normalized_coordinates=True,\n",
    "#                   line_thickness=4)\n",
    "                \n",
    "                boxes_squeezed = np.squeeze(boxes)\n",
    "                nums = len(boxes_squeezed[boxes_squeezed != 0])    # Number of detected objects\n",
    "                img = draw_outputs(image_np, (boxes_squeezed,\n",
    "                                              np.squeeze(scores), \n",
    "                                              np.squeeze(classes).astype(np.int32), \n",
    "                                              nums), category_index)\n",
    "                \n",
    "                viz_times.append(time() - t1_viz)\n",
    "                \n",
    "                # Display output\n",
    "                image_np = cv2.putText(image_np, \"Time: {:,.2f}ms | FPS: {:.2f}fps\".format(times[-1]*1000, 1/times[-1]),\n",
    "                                       (0, 20), cv2.FONT_HERSHEY_COMPLEX_SMALL, 1, (255, 0, 255), 2)\n",
    "                \n",
    "#                 cv2.imshow('object detection', cv2.resize(image_np, (800, 600)))\n",
    "                cv2.imshow('object detection', image_np)\n",
    "                afps_times.append(time() - t1_afps)\n",
    "                if cv2.waitKey(1) & 0xFF == ord('q'):\n",
    "                  break\n",
    "\n",
    "\n",
    "# cap.release()\n",
    "cv2.destroyAllWindows()\n",
    "\n",
    "if len(times) > 0:\n",
    "    print('Average FPS: {:,.2f}fps'.format(1/(sum(times)/len(times))))\n",
    "    print('Average AFPS: {:,.2f}fps'.format(1/(sum(afps_times)/len(afps_times))))"
   ]
  },
  {
   "cell_type": "code",
   "execution_count": 10,
   "metadata": {},
   "outputs": [
    {
     "name": "stdout",
     "output_type": "stream",
     "text": [
      "average time to vizualize: 0.18ms\n"
     ]
    }
   ],
   "source": [
    "print('average time to vizualize: {:,.2f}ms'.format(sum(viz_times)*1000/len(viz_times)))"
   ]
  },
  {
   "cell_type": "code",
   "execution_count": null,
   "metadata": {},
   "outputs": [],
   "source": []
  },
  {
   "cell_type": "code",
   "execution_count": null,
   "metadata": {},
   "outputs": [],
   "source": []
  },
  {
   "cell_type": "code",
   "execution_count": null,
   "metadata": {},
   "outputs": [],
   "source": []
  }
 ],
 "metadata": {
  "kernelspec": {
   "display_name": "Python 3",
   "language": "python",
   "name": "python3"
  },
  "language_info": {
   "codemirror_mode": {
    "name": "ipython",
    "version": 3
   },
   "file_extension": ".py",
   "mimetype": "text/x-python",
   "name": "python",
   "nbconvert_exporter": "python",
   "pygments_lexer": "ipython3",
   "version": "3.6.9"
  }
 },
 "nbformat": 4,
 "nbformat_minor": 2
}
